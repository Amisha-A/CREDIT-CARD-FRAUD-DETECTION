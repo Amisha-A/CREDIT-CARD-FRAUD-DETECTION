{
  "nbformat": 4,
  "nbformat_minor": 0,
  "metadata": {
    "colab": {
      "name": "CreditCard Fraud Detection.ipynb",
      "provenance": [],
      "collapsed_sections": []
    },
    "kernelspec": {
      "name": "python3",
      "display_name": "Python 3"
    },
    "language_info": {
      "name": "python"
    }
  },
  "cells": [
    {
      "cell_type": "markdown",
      "metadata": {
        "id": "i-Lp8d67L0iB"
      },
      "source": [
        "#Credit Card Fraud Detection"
      ]
    },
    {
      "cell_type": "markdown",
      "metadata": {
        "id": "_MvggOBkL5gb"
      },
      "source": [
        "###Importing necessary libraries"
      ]
    },
    {
      "cell_type": "code",
      "metadata": {
        "id": "0ScukQqt_hXS"
      },
      "source": [
        "\n",
        "#Packages related to data importing, manipulation, exploratory data #analysis, data understanding\n",
        "import numpy as np\n",
        "import pandas as pd\n",
        "from pandas import Series, DataFrame\n",
        "#Packages related to data visualizaiton\n",
        "import matplotlib.pyplot as plt\n",
        "from termcolor import colored as cl # text customization\n",
        "from sklearn.preprocessing import  PolynomialFeatures, KBinsDiscretizer, FunctionTransformer\n",
        "from sklearn.model_selection import train_test_split\n",
        "from sklearn import metrics\n",
        "from sklearn.preprocessing import StandardScaler\n",
        "from xgboost import XGBClassifier\n",
        "from sklearn.metrics import f1_score\n",
        "from sklearn.metrics import accuracy_score"
      ],
      "execution_count": 10,
      "outputs": []
    },
    {
      "cell_type": "markdown",
      "metadata": {
        "id": "CWN8c68WMA88"
      },
      "source": [
        "###Importing the dataset"
      ]
    },
    {
      "cell_type": "code",
      "metadata": {
        "colab": {
          "base_uri": "https://localhost:8080/",
          "height": 222
        },
        "id": "UuS9tr0b_oFD",
        "outputId": "2dc7e23d-3217-46ca-b3e5-dfbc272f061c"
      },
      "source": [
        "data=pd.read_csv(\"/content/creditcard.csv\")\n",
        "data.head()"
      ],
      "execution_count": 11,
      "outputs": [
        {
          "output_type": "execute_result",
          "data": {
            "text/html": [
              "<div>\n",
              "<style scoped>\n",
              "    .dataframe tbody tr th:only-of-type {\n",
              "        vertical-align: middle;\n",
              "    }\n",
              "\n",
              "    .dataframe tbody tr th {\n",
              "        vertical-align: top;\n",
              "    }\n",
              "\n",
              "    .dataframe thead th {\n",
              "        text-align: right;\n",
              "    }\n",
              "</style>\n",
              "<table border=\"1\" class=\"dataframe\">\n",
              "  <thead>\n",
              "    <tr style=\"text-align: right;\">\n",
              "      <th></th>\n",
              "      <th>Time</th>\n",
              "      <th>V1</th>\n",
              "      <th>V2</th>\n",
              "      <th>V3</th>\n",
              "      <th>V4</th>\n",
              "      <th>V5</th>\n",
              "      <th>V6</th>\n",
              "      <th>V7</th>\n",
              "      <th>V8</th>\n",
              "      <th>V9</th>\n",
              "      <th>V10</th>\n",
              "      <th>V11</th>\n",
              "      <th>V12</th>\n",
              "      <th>V13</th>\n",
              "      <th>V14</th>\n",
              "      <th>V15</th>\n",
              "      <th>V16</th>\n",
              "      <th>V17</th>\n",
              "      <th>V18</th>\n",
              "      <th>V19</th>\n",
              "      <th>V20</th>\n",
              "      <th>V21</th>\n",
              "      <th>V22</th>\n",
              "      <th>V23</th>\n",
              "      <th>V24</th>\n",
              "      <th>V25</th>\n",
              "      <th>V26</th>\n",
              "      <th>V27</th>\n",
              "      <th>V28</th>\n",
              "      <th>Amount</th>\n",
              "      <th>Class</th>\n",
              "    </tr>\n",
              "  </thead>\n",
              "  <tbody>\n",
              "    <tr>\n",
              "      <th>0</th>\n",
              "      <td>0</td>\n",
              "      <td>-1.359807</td>\n",
              "      <td>-0.072781</td>\n",
              "      <td>2.536347</td>\n",
              "      <td>1.378155</td>\n",
              "      <td>-0.338321</td>\n",
              "      <td>0.462388</td>\n",
              "      <td>0.239599</td>\n",
              "      <td>0.098698</td>\n",
              "      <td>0.363787</td>\n",
              "      <td>0.090794</td>\n",
              "      <td>-0.551600</td>\n",
              "      <td>-0.617801</td>\n",
              "      <td>-0.991390</td>\n",
              "      <td>-0.311169</td>\n",
              "      <td>1.468177</td>\n",
              "      <td>-0.470401</td>\n",
              "      <td>0.207971</td>\n",
              "      <td>0.025791</td>\n",
              "      <td>0.403993</td>\n",
              "      <td>0.251412</td>\n",
              "      <td>-0.018307</td>\n",
              "      <td>0.277838</td>\n",
              "      <td>-0.110474</td>\n",
              "      <td>0.066928</td>\n",
              "      <td>0.128539</td>\n",
              "      <td>-0.189115</td>\n",
              "      <td>0.133558</td>\n",
              "      <td>-0.021053</td>\n",
              "      <td>149.62</td>\n",
              "      <td>0.0</td>\n",
              "    </tr>\n",
              "    <tr>\n",
              "      <th>1</th>\n",
              "      <td>0</td>\n",
              "      <td>1.191857</td>\n",
              "      <td>0.266151</td>\n",
              "      <td>0.166480</td>\n",
              "      <td>0.448154</td>\n",
              "      <td>0.060018</td>\n",
              "      <td>-0.082361</td>\n",
              "      <td>-0.078803</td>\n",
              "      <td>0.085102</td>\n",
              "      <td>-0.255425</td>\n",
              "      <td>-0.166974</td>\n",
              "      <td>1.612727</td>\n",
              "      <td>1.065235</td>\n",
              "      <td>0.489095</td>\n",
              "      <td>-0.143772</td>\n",
              "      <td>0.635558</td>\n",
              "      <td>0.463917</td>\n",
              "      <td>-0.114805</td>\n",
              "      <td>-0.183361</td>\n",
              "      <td>-0.145783</td>\n",
              "      <td>-0.069083</td>\n",
              "      <td>-0.225775</td>\n",
              "      <td>-0.638672</td>\n",
              "      <td>0.101288</td>\n",
              "      <td>-0.339846</td>\n",
              "      <td>0.167170</td>\n",
              "      <td>0.125895</td>\n",
              "      <td>-0.008983</td>\n",
              "      <td>0.014724</td>\n",
              "      <td>2.69</td>\n",
              "      <td>0.0</td>\n",
              "    </tr>\n",
              "    <tr>\n",
              "      <th>2</th>\n",
              "      <td>1</td>\n",
              "      <td>-1.358354</td>\n",
              "      <td>-1.340163</td>\n",
              "      <td>1.773209</td>\n",
              "      <td>0.379780</td>\n",
              "      <td>-0.503198</td>\n",
              "      <td>1.800499</td>\n",
              "      <td>0.791461</td>\n",
              "      <td>0.247676</td>\n",
              "      <td>-1.514654</td>\n",
              "      <td>0.207643</td>\n",
              "      <td>0.624501</td>\n",
              "      <td>0.066084</td>\n",
              "      <td>0.717293</td>\n",
              "      <td>-0.165946</td>\n",
              "      <td>2.345865</td>\n",
              "      <td>-2.890083</td>\n",
              "      <td>1.109969</td>\n",
              "      <td>-0.121359</td>\n",
              "      <td>-2.261857</td>\n",
              "      <td>0.524980</td>\n",
              "      <td>0.247998</td>\n",
              "      <td>0.771679</td>\n",
              "      <td>0.909412</td>\n",
              "      <td>-0.689281</td>\n",
              "      <td>-0.327642</td>\n",
              "      <td>-0.139097</td>\n",
              "      <td>-0.055353</td>\n",
              "      <td>-0.059752</td>\n",
              "      <td>378.66</td>\n",
              "      <td>0.0</td>\n",
              "    </tr>\n",
              "    <tr>\n",
              "      <th>3</th>\n",
              "      <td>1</td>\n",
              "      <td>-0.966272</td>\n",
              "      <td>-0.185226</td>\n",
              "      <td>1.792993</td>\n",
              "      <td>-0.863291</td>\n",
              "      <td>-0.010309</td>\n",
              "      <td>1.247203</td>\n",
              "      <td>0.237609</td>\n",
              "      <td>0.377436</td>\n",
              "      <td>-1.387024</td>\n",
              "      <td>-0.054952</td>\n",
              "      <td>-0.226487</td>\n",
              "      <td>0.178228</td>\n",
              "      <td>0.507757</td>\n",
              "      <td>-0.287924</td>\n",
              "      <td>-0.631418</td>\n",
              "      <td>-1.059647</td>\n",
              "      <td>-0.684093</td>\n",
              "      <td>1.965775</td>\n",
              "      <td>-1.232622</td>\n",
              "      <td>-0.208038</td>\n",
              "      <td>-0.108300</td>\n",
              "      <td>0.005274</td>\n",
              "      <td>-0.190321</td>\n",
              "      <td>-1.175575</td>\n",
              "      <td>0.647376</td>\n",
              "      <td>-0.221929</td>\n",
              "      <td>0.062723</td>\n",
              "      <td>0.061458</td>\n",
              "      <td>123.50</td>\n",
              "      <td>0.0</td>\n",
              "    </tr>\n",
              "    <tr>\n",
              "      <th>4</th>\n",
              "      <td>2</td>\n",
              "      <td>-1.158233</td>\n",
              "      <td>0.877737</td>\n",
              "      <td>1.548718</td>\n",
              "      <td>0.403034</td>\n",
              "      <td>-0.407193</td>\n",
              "      <td>0.095921</td>\n",
              "      <td>0.592941</td>\n",
              "      <td>-0.270533</td>\n",
              "      <td>0.817739</td>\n",
              "      <td>0.753074</td>\n",
              "      <td>-0.822843</td>\n",
              "      <td>0.538196</td>\n",
              "      <td>1.345852</td>\n",
              "      <td>-1.119670</td>\n",
              "      <td>0.175121</td>\n",
              "      <td>-0.451449</td>\n",
              "      <td>-0.237033</td>\n",
              "      <td>-0.038195</td>\n",
              "      <td>0.803487</td>\n",
              "      <td>0.408542</td>\n",
              "      <td>-0.009431</td>\n",
              "      <td>0.798278</td>\n",
              "      <td>-0.137458</td>\n",
              "      <td>0.141267</td>\n",
              "      <td>-0.206010</td>\n",
              "      <td>0.502292</td>\n",
              "      <td>0.219422</td>\n",
              "      <td>0.215153</td>\n",
              "      <td>69.99</td>\n",
              "      <td>0.0</td>\n",
              "    </tr>\n",
              "  </tbody>\n",
              "</table>\n",
              "</div>"
            ],
            "text/plain": [
              "   Time        V1        V2        V3  ...       V27       V28  Amount  Class\n",
              "0     0 -1.359807 -0.072781  2.536347  ...  0.133558 -0.021053  149.62    0.0\n",
              "1     0  1.191857  0.266151  0.166480  ... -0.008983  0.014724    2.69    0.0\n",
              "2     1 -1.358354 -1.340163  1.773209  ... -0.055353 -0.059752  378.66    0.0\n",
              "3     1 -0.966272 -0.185226  1.792993  ...  0.062723  0.061458  123.50    0.0\n",
              "4     2 -1.158233  0.877737  1.548718  ...  0.219422  0.215153   69.99    0.0\n",
              "\n",
              "[5 rows x 31 columns]"
            ]
          },
          "metadata": {},
          "execution_count": 11
        }
      ]
    },
    {
      "cell_type": "code",
      "metadata": {
        "id": "Do2JlMon_oXP",
        "colab": {
          "base_uri": "https://localhost:8080/"
        },
        "outputId": "056a05f2-441a-48d3-e53a-b70fb2614e59"
      },
      "source": [
        "data.shape"
      ],
      "execution_count": 12,
      "outputs": [
        {
          "output_type": "execute_result",
          "data": {
            "text/plain": [
              "(15936, 31)"
            ]
          },
          "metadata": {},
          "execution_count": 12
        }
      ]
    },
    {
      "cell_type": "markdown",
      "metadata": {
        "id": "QGQR22tvMZzS"
      },
      "source": [
        "###Data Processing & Understanding"
      ]
    },
    {
      "cell_type": "code",
      "metadata": {
        "id": "Jd_U-f7s_oY5",
        "colab": {
          "base_uri": "https://localhost:8080/"
        },
        "outputId": "4ffd15b8-ea72-4db8-90d3-3f69a66fc92f"
      },
      "source": [
        "Total_transactions = len(data)\n",
        "normal = len(data[data.Class == 0])\n",
        "fraudulent = len(data[data.Class == 1])\n",
        "fraud_percentage = round(fraudulent/normal*100, 2)\n",
        "print(cl('Total number of Trnsactions are {}'.format(Total_transactions), attrs = ['bold']))\n",
        "print(cl('Number of Normal Transactions are {}'.format(normal), attrs = ['bold']))\n",
        "print(cl('Number of fraudulent Transactions are {}'.format(fraudulent), attrs = ['bold']))\n",
        "print(cl('Percentage of fraud Transactions is {}'.format(fraud_percentage), attrs = ['bold']))\n"
      ],
      "execution_count": 13,
      "outputs": [
        {
          "output_type": "stream",
          "name": "stdout",
          "text": [
            "\u001b[1mTotal number of Trnsactions are 15936\u001b[0m\n",
            "\u001b[1mNumber of Normal Transactions are 15862\u001b[0m\n",
            "\u001b[1mNumber of fraudulent Transactions are 73\u001b[0m\n",
            "\u001b[1mPercentage of fraud Transactions is 0.46\u001b[0m\n"
          ]
        }
      ]
    },
    {
      "cell_type": "markdown",
      "metadata": {
        "id": "Tf27t25hMgTv"
      },
      "source": [
        "###Checking for null values"
      ]
    },
    {
      "cell_type": "code",
      "metadata": {
        "id": "Uu8ZPw7qABtk",
        "colab": {
          "base_uri": "https://localhost:8080/"
        },
        "outputId": "a092a24e-752b-4eae-cb0a-9da07433c51e"
      },
      "source": [
        "data.info()"
      ],
      "execution_count": 14,
      "outputs": [
        {
          "output_type": "stream",
          "name": "stdout",
          "text": [
            "<class 'pandas.core.frame.DataFrame'>\n",
            "RangeIndex: 15936 entries, 0 to 15935\n",
            "Data columns (total 31 columns):\n",
            " #   Column  Non-Null Count  Dtype  \n",
            "---  ------  --------------  -----  \n",
            " 0   Time    15936 non-null  int64  \n",
            " 1   V1      15936 non-null  float64\n",
            " 2   V2      15936 non-null  float64\n",
            " 3   V3      15936 non-null  float64\n",
            " 4   V4      15936 non-null  float64\n",
            " 5   V5      15936 non-null  float64\n",
            " 6   V6      15936 non-null  float64\n",
            " 7   V7      15936 non-null  float64\n",
            " 8   V8      15936 non-null  float64\n",
            " 9   V9      15936 non-null  float64\n",
            " 10  V10     15936 non-null  float64\n",
            " 11  V11     15936 non-null  float64\n",
            " 12  V12     15936 non-null  float64\n",
            " 13  V13     15936 non-null  float64\n",
            " 14  V14     15936 non-null  float64\n",
            " 15  V15     15936 non-null  float64\n",
            " 16  V16     15936 non-null  float64\n",
            " 17  V17     15936 non-null  float64\n",
            " 18  V18     15936 non-null  float64\n",
            " 19  V19     15936 non-null  float64\n",
            " 20  V20     15936 non-null  float64\n",
            " 21  V21     15936 non-null  float64\n",
            " 22  V22     15936 non-null  float64\n",
            " 23  V23     15935 non-null  float64\n",
            " 24  V24     15935 non-null  float64\n",
            " 25  V25     15935 non-null  float64\n",
            " 26  V26     15935 non-null  float64\n",
            " 27  V27     15935 non-null  float64\n",
            " 28  V28     15935 non-null  float64\n",
            " 29  Amount  15935 non-null  float64\n",
            " 30  Class   15935 non-null  float64\n",
            "dtypes: float64(30), int64(1)\n",
            "memory usage: 3.8 MB\n"
          ]
        }
      ]
    },
    {
      "cell_type": "code",
      "metadata": {
        "colab": {
          "base_uri": "https://localhost:8080/"
        },
        "id": "NIGm_oCzI9R5",
        "outputId": "b410a106-f173-427e-c705-14161c552bb4"
      },
      "source": [
        "data.columns"
      ],
      "execution_count": 17,
      "outputs": [
        {
          "output_type": "execute_result",
          "data": {
            "text/plain": [
              "Index(['Time', 'V1', 'V2', 'V3', 'V4', 'V5', 'V6', 'V7', 'V8', 'V9', 'V10',\n",
              "       'V11', 'V12', 'V13', 'V14', 'V15', 'V16', 'V17', 'V18', 'V19', 'V20',\n",
              "       'V21', 'V22', 'V23', 'V24', 'V25', 'V26', 'V27', 'V28', 'Amount',\n",
              "       'Class'],\n",
              "      dtype='object')"
            ]
          },
          "metadata": {},
          "execution_count": 17
        }
      ]
    },
    {
      "cell_type": "code",
      "metadata": {
        "id": "vZC-qld8HodX"
      },
      "source": [
        "m23=data.V23.median()\n",
        "data.V23=data.V23.fillna(m23)\n",
        "\n",
        "m24=data.V24.median()\n",
        "data.V24=data.V24.fillna(m24)\n",
        "\n",
        "m25=data.V25.median()\n",
        "data.V25=data.V25.fillna(m25)\n",
        "\n",
        "m26=data.V26.median()\n",
        "data.V26=data.V26.fillna(m26)\n",
        "\n",
        "m27=data.V27.median()\n",
        "data.V27=data.V27.fillna(m27)\n",
        "\n",
        "m28=data.V28.median()\n",
        "data.V28=data.V28.fillna(m28)\n",
        "\n",
        "mAmount=data.Amount.median()\n",
        "data.Amount=data.Amount.fillna(mAmount)\n",
        "\n",
        "mClass=data.Class.median()\n",
        "data.Class=data.Class.fillna(mClass)\n"
      ],
      "execution_count": 22,
      "outputs": []
    },
    {
      "cell_type": "code",
      "metadata": {
        "colab": {
          "base_uri": "https://localhost:8080/"
        },
        "id": "i19XknzOHoaC",
        "outputId": "23144211-43dd-42cf-c3d5-d83f7a91433d"
      },
      "source": [
        "data.info()"
      ],
      "execution_count": 23,
      "outputs": [
        {
          "output_type": "stream",
          "name": "stdout",
          "text": [
            "<class 'pandas.core.frame.DataFrame'>\n",
            "RangeIndex: 15936 entries, 0 to 15935\n",
            "Data columns (total 31 columns):\n",
            " #   Column  Non-Null Count  Dtype  \n",
            "---  ------  --------------  -----  \n",
            " 0   Time    15936 non-null  int64  \n",
            " 1   V1      15936 non-null  float64\n",
            " 2   V2      15936 non-null  float64\n",
            " 3   V3      15936 non-null  float64\n",
            " 4   V4      15936 non-null  float64\n",
            " 5   V5      15936 non-null  float64\n",
            " 6   V6      15936 non-null  float64\n",
            " 7   V7      15936 non-null  float64\n",
            " 8   V8      15936 non-null  float64\n",
            " 9   V9      15936 non-null  float64\n",
            " 10  V10     15936 non-null  float64\n",
            " 11  V11     15936 non-null  float64\n",
            " 12  V12     15936 non-null  float64\n",
            " 13  V13     15936 non-null  float64\n",
            " 14  V14     15936 non-null  float64\n",
            " 15  V15     15936 non-null  float64\n",
            " 16  V16     15936 non-null  float64\n",
            " 17  V17     15936 non-null  float64\n",
            " 18  V18     15936 non-null  float64\n",
            " 19  V19     15936 non-null  float64\n",
            " 20  V20     15936 non-null  float64\n",
            " 21  V21     15936 non-null  float64\n",
            " 22  V22     15936 non-null  float64\n",
            " 23  V23     15936 non-null  float64\n",
            " 24  V24     15936 non-null  float64\n",
            " 25  V25     15936 non-null  float64\n",
            " 26  V26     15936 non-null  float64\n",
            " 27  V27     15936 non-null  float64\n",
            " 28  V28     15936 non-null  float64\n",
            " 29  Amount  15936 non-null  float64\n",
            " 30  Class   15936 non-null  float64\n",
            "dtypes: float64(30), int64(1)\n",
            "memory usage: 3.8 MB\n"
          ]
        }
      ]
    },
    {
      "cell_type": "code",
      "metadata": {
        "id": "bg5BZT0VABvU",
        "colab": {
          "base_uri": "https://localhost:8080/",
          "height": 265
        },
        "outputId": "1a91f498-85de-4706-fa2a-3b1248d8b704"
      },
      "source": [
        "data['Class'].value_counts().plot(kind='pie')"
      ],
      "execution_count": 24,
      "outputs": [
        {
          "output_type": "execute_result",
          "data": {
            "text/plain": [
              "<matplotlib.axes._subplots.AxesSubplot at 0x7f7ca4b35910>"
            ]
          },
          "metadata": {},
          "execution_count": 24
        },
        {
          "output_type": "display_data",
          "data": {
            "image/png": "[encoded data removed]",
            "text/plain": [
              "<Figure size 432x288 with 1 Axes>"
            ]
          },
          "metadata": {}
        }
      ]
    },
    {
      "cell_type": "code",
      "metadata": {
        "id": "7NZfRJ4VABx_",
        "colab": {
          "base_uri": "https://localhost:8080/"
        },
        "outputId": "ad54073d-e53c-4b87-d37d-c07fe0c77e5c"
      },
      "source": [
        "min(data.Amount)"
      ],
      "execution_count": 25,
      "outputs": [
        {
          "output_type": "execute_result",
          "data": {
            "text/plain": [
              "0.0"
            ]
          },
          "metadata": {},
          "execution_count": 25
        }
      ]
    },
    {
      "cell_type": "code",
      "metadata": {
        "id": "e0TcCU0tABzo",
        "colab": {
          "base_uri": "https://localhost:8080/"
        },
        "outputId": "09adaa13-12d8-4b62-d605-883d979f7c86"
      },
      "source": [
        "max(data.Amount)"
      ],
      "execution_count": 26,
      "outputs": [
        {
          "output_type": "execute_result",
          "data": {
            "text/plain": [
              "7712.43"
            ]
          },
          "metadata": {},
          "execution_count": 26
        }
      ]
    },
    {
      "cell_type": "markdown",
      "metadata": {
        "id": "fvlyzNETMnZd"
      },
      "source": [
        "###Scaling the data"
      ]
    },
    {
      "cell_type": "code",
      "metadata": {
        "id": "DzqRw4tEAOrG"
      },
      "source": [
        "sc = StandardScaler()\n",
        "amount = data['Amount'].values\n",
        "data['Amount'] = sc.fit_transform(amount.reshape(-1, 1))"
      ],
      "execution_count": 27,
      "outputs": []
    },
    {
      "cell_type": "code",
      "metadata": {
        "id": "zXvsuFxVAPE4"
      },
      "source": [
        "data.drop(['Time'], axis=1, inplace=True)"
      ],
      "execution_count": 28,
      "outputs": []
    },
    {
      "cell_type": "code",
      "metadata": {
        "id": "Gn7zraR2APYf",
        "colab": {
          "base_uri": "https://localhost:8080/"
        },
        "outputId": "4becd7f0-8b4a-4b08-9110-bd99079f1a58"
      },
      "source": [
        "data.shape"
      ],
      "execution_count": 29,
      "outputs": [
        {
          "output_type": "execute_result",
          "data": {
            "text/plain": [
              "(15936, 30)"
            ]
          },
          "metadata": {},
          "execution_count": 29
        }
      ]
    },
    {
      "cell_type": "code",
      "metadata": {
        "id": "6o5U2ZAZAPl6"
      },
      "source": [
        "data.drop_duplicates(inplace=True)"
      ],
      "execution_count": 30,
      "outputs": []
    },
    {
      "cell_type": "code",
      "metadata": {
        "id": "u-Z-lYSsAPxK",
        "colab": {
          "base_uri": "https://localhost:8080/"
        },
        "outputId": "05dfc9c3-28bb-4a08-b75d-0576caf58f4f"
      },
      "source": [
        "data.shape"
      ],
      "execution_count": 31,
      "outputs": [
        {
          "output_type": "execute_result",
          "data": {
            "text/plain": [
              "(15443, 30)"
            ]
          },
          "metadata": {},
          "execution_count": 31
        }
      ]
    },
    {
      "cell_type": "markdown",
      "metadata": {
        "id": "bAByw64rMu2h"
      },
      "source": [
        "###Train and Test Split"
      ]
    },
    {
      "cell_type": "code",
      "metadata": {
        "id": "nhffO0JKAbEG"
      },
      "source": [
        "X = data.drop('Class', axis = 1).values\n",
        "y = data['Class'].values"
      ],
      "execution_count": 32,
      "outputs": []
    },
    {
      "cell_type": "code",
      "metadata": {
        "id": "kwQSnXc_AbCo",
        "colab": {
          "base_uri": "https://localhost:8080/"
        },
        "outputId": "8ffe04f1-3368-4712-918e-b33a8f68cae3"
      },
      "source": [
        "X.shape"
      ],
      "execution_count": 33,
      "outputs": [
        {
          "output_type": "execute_result",
          "data": {
            "text/plain": [
              "(15443, 29)"
            ]
          },
          "metadata": {},
          "execution_count": 33
        }
      ]
    },
    {
      "cell_type": "code",
      "metadata": {
        "id": "39W0UR05Aa_s",
        "colab": {
          "base_uri": "https://localhost:8080/"
        },
        "outputId": "6e0a84d0-10f4-4233-d019-111743bae268"
      },
      "source": [
        "y.shape"
      ],
      "execution_count": 34,
      "outputs": [
        {
          "output_type": "execute_result",
          "data": {
            "text/plain": [
              "(15443,)"
            ]
          },
          "metadata": {},
          "execution_count": 34
        }
      ]
    },
    {
      "cell_type": "code",
      "metadata": {
        "id": "raktT_u9AhYV"
      },
      "source": [
        "X_train, X_test, y_train, y_test = train_test_split(X, y, test_size = 0.25, random_state = 1)"
      ],
      "execution_count": 35,
      "outputs": []
    },
    {
      "cell_type": "markdown",
      "metadata": {
        "id": "aBaeBzLsMx9V"
      },
      "source": [
        "###Model Building and Accuracy"
      ]
    },
    {
      "cell_type": "code",
      "metadata": {
        "id": "MpoIwndqAhUf"
      },
      "source": [
        "xgb = XGBClassifier(Booster=\"gbtree\",max_depth = 4)\n",
        "xgb.fit(X_train, y_train)\n",
        "xgb_yhat = xgb.predict(X_test)"
      ],
      "execution_count": 39,
      "outputs": []
    },
    {
      "cell_type": "code",
      "metadata": {
        "id": "IujxAVmKAhS_",
        "colab": {
          "base_uri": "https://localhost:8080/"
        },
        "outputId": "b8a04fa4-5fbd-4aca-fde3-f8a6bbf38137"
      },
      "source": [
        "print('Accuracy score of the XGBoost model is {}'.format(accuracy_score(y_test, xgb_yhat)))\n"
      ],
      "execution_count": 40,
      "outputs": [
        {
          "output_type": "stream",
          "name": "stdout",
          "text": [
            "Accuracy score of the XGBoost model is 0.9992229992229992\n"
          ]
        }
      ]
    },
    {
      "cell_type": "code",
      "metadata": {
        "id": "hi-ZjVUNAhPx",
        "colab": {
          "base_uri": "https://localhost:8080/"
        },
        "outputId": "f5e70823-dfc9-445c-f315-e6a7e665bb76"
      },
      "source": [
        "print('F1 score of the XGBoost model is {}'.format(f1_score(y_test, xgb_yhat)))"
      ],
      "execution_count": 41,
      "outputs": [
        {
          "output_type": "stream",
          "name": "stdout",
          "text": [
            "F1 score of the XGBoost model is 0.9361702127659574\n"
          ]
        }
      ]
    }
  ]
}